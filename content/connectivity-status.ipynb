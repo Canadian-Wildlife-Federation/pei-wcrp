{
  "cells": [
    {
      "cell_type": "code",
      "metadata": {},
      "source": [
        "import warnings\n",
        "import pandas as pd\n",
        "import numpy as np\n",
        "import python.api_calls as api\n",
        "import python.connectivity_assess as conn_table\n",
        "\n",
        "warnings.filterwarnings('ignore')\n"
      ],
      "id": "bb8cb195",
      "execution_count": null,
      "outputs": []
    },
    {
      "cell_type": "markdown",
      "metadata": {},
      "source": [
        "# Connectivity Status Assessment and Goals {-}\n",
        "\n",
        "## Connectivity Status Assessment {-}\n",
        "\n",
        "The planning team devised two Key Ecological Attributes (KEAs) and associated indicators to assess the current connectivity status of the watershed – Accessible Habitat and Accessible Overwintering Habitat (@tbl-connectivity). KEAs are the key aspects of anadromous salmon ecology that are being targeted by this WCRP. The connectivity status of Anadromous Salmon was used to establish goals to improve habitat connectivity in the watershed and will be the baseline against which progress is tracked over time. \n",
        "\n",
        "The current connectivity status assessment relies on GIS analyses to map known and modelled barriers to fish passage, identify stream reaches that have potential spawning and rearing habitat, estimate the proportion of habitat that is currently accessible to target species, and prioritize barriers for field assessment that would provide the greatest gains in connectivity. To support a flexible prioritization framework to identify priority barriers in the watershed, two assumptions are made: 1,any modelled (i.e., passability status is unknown) or partial barriers are treated as complete barriers to passage and 2, the habitat modelling is binary, it does not assign any habitat quality values. As such, the current connectivity status will be refined over time as more data on habitat and barriers are collected. For more detail on how the connectivity status assessments were conducted, see Appendix B. \n"
      ],
      "id": "f181b920"
    },
    {
      "cell_type": "code",
      "metadata": {},
      "source": [
        "#| label: tbl-connectivity\n",
        "#| tbl-cap: Connectivity status assessment for spawning (a) and rearing (b) habitat in the Bulkley River watershed. The two KEAs - Accessible Spawning Habitat and Accessible Rearing Habitat - are evaluated by dividing the length of linear habitat (of each type) that is currently accessible to target species by the total length of all linear habitat (of each type) in the watershed.\n",
        "#| warning: false\n",
        "#| echo: false\n",
        "\n",
        "df = conn_table.make_assess_table(\"Andromous Salmon\", \"Available Habitat\", \"% of total linear habitat\", 80, -1, 90, api.connect)\n",
        "df"
      ],
      "id": "tbl-connectivity",
      "execution_count": null,
      "outputs": []
    },
    {
      "cell_type": "markdown",
      "metadata": {},
      "source": [
        "**Comments:** Indicator rating definitions are based on the consensus decisions of the planning team, including the decision not to define Fair. The current status is based on the CWF Barrier Prioritization Model output, which is current as of March 2022.\n"
      ],
      "id": "9bf7b532"
    },
    {
      "cell_type": "code",
      "metadata": {},
      "source": [
        "#| warning: false\n",
        "#| echo: false\n",
        "\n",
        "df = conn_table.make_assess_table(\"Andromous Salmon\", \"Available Overwintering Habitat\", \"Total Area (m2) of overwintering habitat accessible\", \"?\", \" ?\", \"? \", api.connect)\n",
        "df\n"
      ],
      "id": "fc676255",
      "execution_count": null,
      "outputs": []
    },
    {
      "cell_type": "markdown",
      "metadata": {},
      "source": [
        "**Comments:** No baseline data exists on the extent of overwintering habitat in the watershed. A priority action is included in the Operational Plan (strategy 2.3) to develop a habitat layer, and this will be used to inform this connectivity status assessment in the future.\n",
        "\n",
        "\n",
        "## Goals {-}\n"
      ],
      "id": "da4ba01f"
    },
    {
      "cell_type": "code",
      "metadata": {},
      "source": [
        "#| label: tbl-goals\n",
        "#| tbl-cap: 'Goals to improve (1) spawning and rearing and (2) overwintering habitat connectivity for target species in the Horsefly River watershed over the lifespan of the WCRP (2021-2040). The goals were established through discussions with the planning team and represent the resulting desired state of connectivity in the watershed. The goals are subject to change as more information and data are collected over the course of the plan timeline (e.g., the current connectivity status is updated based on barrier field assessments).'\n",
        "#| warning: false\n",
        "#| echo: false\n",
        "df = pd.DataFrame({\"Goal #\": [1,2],\n",
        "                   \"Goal\": [\"By 2040, the percent (%) of total linear habitat accessible to anadromous salmon will increase from \" + str(api.watershed_connectivity(\"ALL\")[0])+\"% \" + \" to 96% within the Horsefly River watershed (i.e., reconnect at least \"+ str(api.gain) +\" of habitat).\",\n",
        "                            \"By 2024, the total area of overwintering habitat accessible to Anadromous Salmon will increase by 1,500 m2 within the Horsefly River watershed. \"]\n",
        "                    })\n",
        "\n",
        "data = df.style.hide().set_properties(**{'text-align': 'left'})\n",
        "\n",
        "data.set_table_styles(\n",
        "   [{\n",
        "       'selector': 'th',\n",
        "       'props': [('background-color', '#008270'),('text-align', 'left')]\n",
        "   }])"
      ],
      "id": "tbl-goals",
      "execution_count": null,
      "outputs": []
    }
  ],
  "metadata": {
    "kernelspec": {
      "display_name": "Python 3",
      "language": "python",
      "name": "python3"
    }
  },
  "nbformat": 4,
  "nbformat_minor": 5
}