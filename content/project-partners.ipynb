{
  "cells": [
    {
      "cell_type": "markdown",
      "metadata": {},
      "source": [
        "# Appendix A - Planning Team {-}\n",
        "\n",
        "## Planning Team {-}\n"
      ],
      "id": "96040128"
    },
    {
      "cell_type": "code",
      "metadata": {},
      "source": [
        "#| label: tbl-planteam\n",
        "#| tbl-cap: 'The primary and secondary planning teams involved in developing and implementing the souris and area branch watershed connectivity restoration plan. '\n",
        "#| warning: false\n",
        "#| echo: false\n",
        "\n",
        "from IPython.display import display\n",
        "import pandas as pd\n",
        "import numpy as np\n",
        "\n",
        "\n",
        "def df_operation(val):\n",
        "    return \"background-color: black; color: white\"\n",
        "\n",
        "data = pd.read_csv('data/planning_team.csv', index_col=False,)\n",
        "\n",
        "data = data.replace(np.nan, '', regex=True)\n",
        "\n",
        "rows = pd.IndexSlice[[0,7], :]\n",
        "\n",
        "data = data.style.applymap(df_operation, subset=rows).hide().set_properties(**{'text-align': 'left'})\n",
        "data.set_table_styles(\n",
        "   [{\n",
        "       'selector': 'th',\n",
        "       'props': [('background-color', '#008270'),('text-align', 'left')]\n",
        "   }])"
      ],
      "id": "tbl-planteam",
      "execution_count": null,
      "outputs": []
    }
  ],
  "metadata": {
    "kernelspec": {
      "name": "python3",
      "language": "python",
      "display_name": "Python 3 (ipykernel)"
    }
  },
  "nbformat": 4,
  "nbformat_minor": 5
}