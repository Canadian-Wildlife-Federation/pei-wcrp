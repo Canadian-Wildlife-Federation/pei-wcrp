{
  "cells": [
    {
      "cell_type": "markdown",
      "metadata": {},
      "source": [
        "# Work Planning {-}\n",
        "\n",
        "## Annual Progress Report {-}\n",
        "\n",
        "CWF and SAB hosted an annual partner workshop in February 2023.  During this workshop, project partners discussed and mapped multiple strategies to address four major threats to connectivity in the seven watersheds (barrier beaches, beaver activity, blowdowns and blockages, and stream crossings). These strategies were mapped using methods from the Conservation Standards and are outlined in the Action Plan (@tbl-actionplan/@fig-7). The goal for this exercise was to creatively brainstorm several strategies, while recognizing that not all will be achieved over the course of this project. An annual work plan was created to outline which subset of tasks would be carried out from March 2023 to March 2024 (@tbl-workplan). The work plan encompasses both assessments on unassessed structures or assessed structures that remain data deficient, actions to close knowledge gaps, and activities that advance actionable confirmed barriers.\n",
        "\n",
        "In summer 2023, CWF, SAB, and ASF assessed 16 structures to determine their passability status for the three focal species.  Informal assessments were completed at 10 sites and full barrier assessments were completed for six of them using the Nova Scotia Salmon Association’s Adopt-A-Stream protocol (Culvert Assessment for Fish Passage | NSSA Adopt A Stream). Field assessment results were reviewed by CWF, SAB, and ASF and updates were made to the connectivity models accordingly.  \n",
        "\n",
        "In addition to field assessments, two projects were completed in March 2023-2024: \n",
        "\n",
        "- The over widened, shallow barrier beach on Bear River was temporarily addressed by recreating a narrowed access channel and deeper thalweg with meandering rocks, with the goal of improving access for the 2023 fall Atlantic Salmon run.  \n",
        "\n",
        "- A public information meeting was held in January 2024, to address concerns around Hay River barrier beach and upstream Johnston’s Pond. Presentations were made by Souris and Area Branch of the PEI Wildlife Federation, Ducks Unlimited, The PEI Department of Environment, Energy and Climate Action’s Forests, Fish and Wildlife Division, the University of Prince Edward Island Climate Lab and CBCL Coastal Engineer Vincent Leys.  Topics included the history of the structures, ongoing management of the impoundment, and projected erosion and coastal processes under climate change. \n",
        "\n",
        "![Proposed strategies (orange) towards addressing various connectivity-related threats (teal) as part of the watershed connectivity restoration plan.](images/figure-7.jpg){#fig-7}\n",
        "\n",
        "## Annual Work Plan {-}\n"
      ],
      "id": "625ce731"
    },
    {
      "cell_type": "code",
      "metadata": {},
      "source": [
        "#| label: tbl-workplan\n",
        "#| tbl-cap: 'Proposed strategies and actions to improve connectivity for Atlantic Salmon, American Eel, and Rainbow Smelt in the seven northeastern watersheds. See Appendix A for leads and participants.'\n",
        "#| warning: false\n",
        "#| echo: false\n",
        "\n",
        "from IPython.display import display\n",
        "import pandas as pd\n",
        "import numpy as np\n",
        "\n",
        "\n",
        "def df_operation(val):\n",
        "    return \"background-color: black; color: white\"\n",
        "\n",
        "\n",
        "data = pd.read_csv('data/work-plan.csv', index_col=False, encoding=\"windows-1252\")\n",
        "\n",
        "data = data.replace(np.nan, '', regex=True)\n",
        "\n",
        "rows = pd.IndexSlice[[8,12,15], :]\n",
        "\n",
        "data = data.style.applymap(df_operation, subset=rows).hide().set_properties(**{'text-align': 'left'})\n",
        "data.set_table_styles(\n",
        "   [{\n",
        "       'selector': 'th',\n",
        "       'props': [('background-color', '#008270'),('text-align', 'left')]\n",
        "   }])"
      ],
      "id": "tbl-workplan",
      "execution_count": null,
      "outputs": []
    },
    {
      "cell_type": "markdown",
      "metadata": {},
      "source": [
        "## Action Plan {-}\n"
      ],
      "id": "95ffcfc5"
    },
    {
      "cell_type": "code",
      "metadata": {},
      "source": [
        "#| label: tbl-actionplan\n",
        "#| tbl-cap: 'Proposed strategies and actions to improve connectivity for Atlantic Salmon, American Eel, and Rainbow Smelt in the seven northeastern watersheds. See Appendix A for leads and participants.'\n",
        "#| warning: false\n",
        "#| echo: false\n",
        "\n",
        "from IPython.display import display\n",
        "import pandas as pd\n",
        "import numpy as np\n",
        "\n",
        "\n",
        "def df_operation(val):\n",
        "    return \"background-color: black; color: white\"\n",
        "\n",
        "\n",
        "data = pd.read_csv('data/action-plan.csv', index_col=False, encoding=\"windows-1252\")\n",
        "\n",
        "data = data.replace(np.nan, '', regex=True)\n",
        "\n",
        "rows = pd.IndexSlice[[0,4,16,21], :]\n",
        "\n",
        "data = data.style.applymap(df_operation, subset=rows).hide().set_properties(**{'text-align': 'left'})\n",
        "data.set_table_styles(\n",
        "   [{\n",
        "       'selector': 'th',\n",
        "       'props': [('background-color', '#008270'),('text-align', 'left')]\n",
        "   }])"
      ],
      "id": "tbl-actionplan",
      "execution_count": null,
      "outputs": []
    }
  ],
  "metadata": {
    "kernelspec": {
      "name": "python3",
      "language": "python",
      "display_name": "Python 3 (ipykernel)"
    }
  },
  "nbformat": 4,
  "nbformat_minor": 5
}