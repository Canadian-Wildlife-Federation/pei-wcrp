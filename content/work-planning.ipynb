{
  "cells": [
    {
      "cell_type": "markdown",
      "metadata": {},
      "source": [
        "# Work Planning {-}\n",
        "\n",
        "## Annual Progress Report {-}\n",
        "\n",
        "## Operational Plan {-}\n",
        "\n",
        "The operational plan represents a preliminary exercise undertaken by the planning team to identify the potential leads, potential participants, and estimated cost for the implementation of each action in the Horsefly River watershed. The table below summarizes individuals, groups, or organizations that the planning team felt could lead or participate in the implementation of the plan and should be interpreted as the first step in on-going planning and engagement to develop more detailed and sophisticated action plans for each entry in the table. The individuals, groups, and organizations listed under the \"Lead(s)\" or \"Potential Participants\" columns are those that provisionally expressed interest in participating in one of those roles or were suggested by the planning team for further engagement (denoted in bold), for those that are not members of the planning team. The leads, participants, and estimated costs in the operational plan are not binding nor an official commitment of resources, but rather provide a roadmap for future coordination and engagement to work towards implementation of the WCRP.\n"
      ],
      "id": "94b35cba"
    },
    {
      "cell_type": "code",
      "metadata": {},
      "source": [
        "#| label: tbl-S1\n",
        "#| tbl-cap: Strategy 1\n",
        "#| warning: false\n",
        "#| echo: false\n",
        "\n",
        "import numpy as np\n",
        "from IPython.display import display\n",
        "import pandas as pd\n",
        "\n",
        " \n",
        "def fix_table(val):\n",
        "    return str(val)\n",
        "\n",
        "def highlighttab7(val):\n",
        "    red = '#ff0000;'\n",
        "    yellow = '#ffff00;'\n",
        "    lgreen = '#92d050;'\n",
        "    dgreen = '#03853e;'\n",
        "\n",
        "    if val==\"Medium\" or val==\"Need more information\": color = yellow\n",
        "    elif val==\"Very high\" or val==\"Very effective\" : color = lgreen\n",
        "    elif val ==\"High\" or val==\"Effective\": color = dgreen\n",
        "    else: color = 'white'\n",
        "    return 'background-color: %s' % color"
      ],
      "id": "tbl-S1",
      "execution_count": null,
      "outputs": []
    },
    {
      "cell_type": "code",
      "metadata": {},
      "source": [
        "#| label: tbl-opplan\n",
        "#| tbl-cap: Operational plan to support the implementation of strategies and actions to improve connectivity for target species in the Horsefly River watershed.\n",
        "#| warning: false\n",
        "#| echo: false\n",
        "\n",
        "from IPython.display import display\n",
        "import pandas as pd\n",
        "import numpy as np\n",
        "\n",
        "\n",
        "def df_operation(val):\n",
        "    return \"background-color: black; color: white\"\n",
        "\n",
        "\n",
        "data = pd.read_csv('data/operational-plan.csv', index_col=False)\n",
        "\n",
        "data = data.replace(np.nan, '', regex=True)\n",
        "\n",
        "rows = pd.IndexSlice[[0,10,16,23,26,29,30,31], :]\n",
        "\n",
        "data = data.style.applymap(df_operation, subset=rows).hide().set_properties(**{'text-align': 'left'})\n",
        "data.set_table_styles(\n",
        "   [{\n",
        "       'selector': 'th',\n",
        "       'props': [('background-color', '#008270'),('text-align', 'left')]\n",
        "   }])"
      ],
      "id": "tbl-opplan",
      "execution_count": null,
      "outputs": []
    },
    {
      "cell_type": "markdown",
      "metadata": {},
      "source": [
        "## Annual Work Plan {-}"
      ],
      "id": "c3d640ee"
    }
  ],
  "metadata": {
    "kernelspec": {
      "display_name": "Python 3",
      "language": "python",
      "name": "python3"
    }
  },
  "nbformat": 4,
  "nbformat_minor": 5
}